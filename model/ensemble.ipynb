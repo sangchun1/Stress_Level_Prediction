{
 "cells": [
  {
   "cell_type": "markdown",
   "id": "41bb19c8",
   "metadata": {},
   "source": [
    "* kfold\n",
    "* ensemble \n",
    "-> CatBoost + LGBM + XGBoost\n",
    "-> metamodel: ridge + mlp"
   ]
  }
 ],
 "metadata": {
  "language_info": {
   "name": "python"
  }
 },
 "nbformat": 4,
 "nbformat_minor": 5
}
