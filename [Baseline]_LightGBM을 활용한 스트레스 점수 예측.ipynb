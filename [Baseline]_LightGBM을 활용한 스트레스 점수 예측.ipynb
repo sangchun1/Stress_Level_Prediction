{
 "cells": [
  {
   "cell_type": "markdown",
   "metadata": {
    "pbl_cell_type": "markdown",
    "step_id": 15028,
    "step_number": 0
   },
   "source": [
    "### Import & Data Load"
   ]
  },
  {
   "cell_type": "code",
   "execution_count": 1,
   "metadata": {
    "pbl_cell_type": "code",
    "step_id": 15028,
    "step_number": 0
   },
   "outputs": [],
   "source": [
    "import numpy as np\n",
    "import pandas as pd\n",
    "from lightgbm import LGBMRegressor\n",
    "from sklearn.preprocessing import LabelEncoder"
   ]
  },
  {
   "cell_type": "code",
   "execution_count": null,
   "metadata": {
    "pbl_cell_type": "code",
    "step_id": 15028,
    "step_number": 0
   },
   "outputs": [],
   "source": [
    "train = pd.read_csv('./data/train.csv')\n",
    "test = pd.read_csv('./data/test.csv')"
   ]
  },
  {
   "cell_type": "code",
   "execution_count": 3,
   "metadata": {
    "pbl_cell_type": "code",
    "step_id": 15028,
    "step_number": 0
   },
   "outputs": [
    {
     "data": {
      "text/html": [
       "<div>\n",
       "<style scoped>\n",
       "    .dataframe tbody tr th:only-of-type {\n",
       "        vertical-align: middle;\n",
       "    }\n",
       "\n",
       "    .dataframe tbody tr th {\n",
       "        vertical-align: top;\n",
       "    }\n",
       "\n",
       "    .dataframe thead th {\n",
       "        text-align: right;\n",
       "    }\n",
       "</style>\n",
       "<table border=\"1\" class=\"dataframe\">\n",
       "  <thead>\n",
       "    <tr style=\"text-align: right;\">\n",
       "      <th></th>\n",
       "      <th>ID</th>\n",
       "      <th>gender</th>\n",
       "      <th>age</th>\n",
       "      <th>height</th>\n",
       "      <th>weight</th>\n",
       "      <th>cholesterol</th>\n",
       "      <th>systolic_blood_pressure</th>\n",
       "      <th>diastolic_blood_pressure</th>\n",
       "      <th>glucose</th>\n",
       "      <th>bone_density</th>\n",
       "      <th>activity</th>\n",
       "      <th>smoke_status</th>\n",
       "      <th>medical_history</th>\n",
       "      <th>family_medical_history</th>\n",
       "      <th>sleep_pattern</th>\n",
       "      <th>edu_level</th>\n",
       "      <th>mean_working</th>\n",
       "      <th>stress_score</th>\n",
       "    </tr>\n",
       "  </thead>\n",
       "  <tbody>\n",
       "    <tr>\n",
       "      <th>0</th>\n",
       "      <td>TRAIN_0000</td>\n",
       "      <td>F</td>\n",
       "      <td>72</td>\n",
       "      <td>161.49</td>\n",
       "      <td>58.47</td>\n",
       "      <td>279.84</td>\n",
       "      <td>165</td>\n",
       "      <td>100</td>\n",
       "      <td>143.35</td>\n",
       "      <td>0.87</td>\n",
       "      <td>moderate</td>\n",
       "      <td>ex-smoker</td>\n",
       "      <td>high blood pressure</td>\n",
       "      <td>diabetes</td>\n",
       "      <td>sleep difficulty</td>\n",
       "      <td>bachelors degree</td>\n",
       "      <td>NaN</td>\n",
       "      <td>0.63</td>\n",
       "    </tr>\n",
       "    <tr>\n",
       "      <th>1</th>\n",
       "      <td>TRAIN_0001</td>\n",
       "      <td>M</td>\n",
       "      <td>88</td>\n",
       "      <td>179.87</td>\n",
       "      <td>77.60</td>\n",
       "      <td>257.37</td>\n",
       "      <td>178</td>\n",
       "      <td>111</td>\n",
       "      <td>146.94</td>\n",
       "      <td>0.07</td>\n",
       "      <td>moderate</td>\n",
       "      <td>ex-smoker</td>\n",
       "      <td>NaN</td>\n",
       "      <td>diabetes</td>\n",
       "      <td>normal</td>\n",
       "      <td>graduate degree</td>\n",
       "      <td>NaN</td>\n",
       "      <td>0.83</td>\n",
       "    </tr>\n",
       "    <tr>\n",
       "      <th>2</th>\n",
       "      <td>TRAIN_0002</td>\n",
       "      <td>M</td>\n",
       "      <td>47</td>\n",
       "      <td>182.47</td>\n",
       "      <td>89.93</td>\n",
       "      <td>226.66</td>\n",
       "      <td>134</td>\n",
       "      <td>95</td>\n",
       "      <td>142.61</td>\n",
       "      <td>1.18</td>\n",
       "      <td>light</td>\n",
       "      <td>ex-smoker</td>\n",
       "      <td>NaN</td>\n",
       "      <td>NaN</td>\n",
       "      <td>normal</td>\n",
       "      <td>high school diploma</td>\n",
       "      <td>9.0</td>\n",
       "      <td>0.70</td>\n",
       "    </tr>\n",
       "    <tr>\n",
       "      <th>3</th>\n",
       "      <td>TRAIN_0003</td>\n",
       "      <td>M</td>\n",
       "      <td>69</td>\n",
       "      <td>185.78</td>\n",
       "      <td>68.63</td>\n",
       "      <td>206.74</td>\n",
       "      <td>158</td>\n",
       "      <td>92</td>\n",
       "      <td>137.26</td>\n",
       "      <td>0.48</td>\n",
       "      <td>intense</td>\n",
       "      <td>ex-smoker</td>\n",
       "      <td>high blood pressure</td>\n",
       "      <td>NaN</td>\n",
       "      <td>oversleeping</td>\n",
       "      <td>graduate degree</td>\n",
       "      <td>NaN</td>\n",
       "      <td>0.17</td>\n",
       "    </tr>\n",
       "    <tr>\n",
       "      <th>4</th>\n",
       "      <td>TRAIN_0004</td>\n",
       "      <td>F</td>\n",
       "      <td>81</td>\n",
       "      <td>164.63</td>\n",
       "      <td>71.53</td>\n",
       "      <td>255.92</td>\n",
       "      <td>171</td>\n",
       "      <td>116</td>\n",
       "      <td>129.37</td>\n",
       "      <td>0.34</td>\n",
       "      <td>moderate</td>\n",
       "      <td>ex-smoker</td>\n",
       "      <td>diabetes</td>\n",
       "      <td>diabetes</td>\n",
       "      <td>sleep difficulty</td>\n",
       "      <td>bachelors degree</td>\n",
       "      <td>NaN</td>\n",
       "      <td>0.36</td>\n",
       "    </tr>\n",
       "  </tbody>\n",
       "</table>\n",
       "</div>"
      ],
      "text/plain": [
       "           ID gender  age  height  weight  cholesterol  \\\n",
       "0  TRAIN_0000      F   72  161.49   58.47       279.84   \n",
       "1  TRAIN_0001      M   88  179.87   77.60       257.37   \n",
       "2  TRAIN_0002      M   47  182.47   89.93       226.66   \n",
       "3  TRAIN_0003      M   69  185.78   68.63       206.74   \n",
       "4  TRAIN_0004      F   81  164.63   71.53       255.92   \n",
       "\n",
       "   systolic_blood_pressure  diastolic_blood_pressure  glucose  bone_density  \\\n",
       "0                      165                       100   143.35          0.87   \n",
       "1                      178                       111   146.94          0.07   \n",
       "2                      134                        95   142.61          1.18   \n",
       "3                      158                        92   137.26          0.48   \n",
       "4                      171                       116   129.37          0.34   \n",
       "\n",
       "   activity smoke_status      medical_history family_medical_history  \\\n",
       "0  moderate    ex-smoker  high blood pressure               diabetes   \n",
       "1  moderate    ex-smoker                  NaN               diabetes   \n",
       "2     light    ex-smoker                  NaN                    NaN   \n",
       "3   intense    ex-smoker  high blood pressure                    NaN   \n",
       "4  moderate    ex-smoker             diabetes               diabetes   \n",
       "\n",
       "      sleep_pattern            edu_level  mean_working  stress_score  \n",
       "0  sleep difficulty     bachelors degree           NaN          0.63  \n",
       "1            normal      graduate degree           NaN          0.83  \n",
       "2            normal  high school diploma           9.0          0.70  \n",
       "3      oversleeping      graduate degree           NaN          0.17  \n",
       "4  sleep difficulty     bachelors degree           NaN          0.36  "
      ]
     },
     "execution_count": 3,
     "metadata": {},
     "output_type": "execute_result"
    }
   ],
   "source": [
    "train.head(5)"
   ]
  },
  {
   "cell_type": "markdown",
   "metadata": {
    "pbl_cell_type": "markdown",
    "step_id": 15028,
    "step_number": 0
   },
   "source": [
    "### Check Data"
   ]
  },
  {
   "cell_type": "code",
   "execution_count": 4,
   "metadata": {
    "pbl_cell_type": "code",
    "step_id": 15028,
    "step_number": 0
   },
   "outputs": [
    {
     "data": {
      "text/plain": [
       "ID                             0\n",
       "gender                         0\n",
       "age                            0\n",
       "height                         0\n",
       "weight                         0\n",
       "cholesterol                    0\n",
       "systolic_blood_pressure        0\n",
       "diastolic_blood_pressure       0\n",
       "glucose                        0\n",
       "bone_density                   0\n",
       "activity                       0\n",
       "smoke_status                   0\n",
       "medical_history             1289\n",
       "family_medical_history      1486\n",
       "sleep_pattern                  0\n",
       "edu_level                    607\n",
       "mean_working                1032\n",
       "stress_score                   0\n",
       "dtype: int64"
      ]
     },
     "execution_count": 4,
     "metadata": {},
     "output_type": "execute_result"
    }
   ],
   "source": [
    "train.isnull().sum()"
   ]
  },
  {
   "cell_type": "code",
   "execution_count": 5,
   "metadata": {
    "pbl_cell_type": "code",
    "step_id": 15028,
    "step_number": 0
   },
   "outputs": [
    {
     "data": {
      "text/plain": [
       "Index(['medical_history', 'family_medical_history', 'edu_level',\n",
       "       'mean_working'],\n",
       "      dtype='object')"
      ]
     },
     "execution_count": 5,
     "metadata": {},
     "output_type": "execute_result"
    }
   ],
   "source": [
    "# 결측값 있는 칼럼(column) 확인\n",
    "missing_columns_train = train.columns[train.isnull().sum() > 0]\n",
    "missing_columns_train"
   ]
  },
  {
   "cell_type": "code",
   "execution_count": 6,
   "metadata": {
    "pbl_cell_type": "code",
    "step_id": 15028,
    "step_number": 0
   },
   "outputs": [
    {
     "name": "stdout",
     "output_type": "stream",
     "text": [
      "<class 'pandas.core.frame.DataFrame'>\n",
      "RangeIndex: 3000 entries, 0 to 2999\n",
      "Data columns (total 4 columns):\n",
      " #   Column                  Non-Null Count  Dtype  \n",
      "---  ------                  --------------  -----  \n",
      " 0   medical_history         1711 non-null   object \n",
      " 1   family_medical_history  1514 non-null   object \n",
      " 2   edu_level               2393 non-null   object \n",
      " 3   mean_working            1968 non-null   float64\n",
      "dtypes: float64(1), object(3)\n",
      "memory usage: 93.9+ KB\n"
     ]
    }
   ],
   "source": [
    "train[missing_columns_train].info()"
   ]
  },
  {
   "cell_type": "code",
   "execution_count": 7,
   "metadata": {
    "pbl_cell_type": "code",
    "step_id": 15028,
    "step_number": 0
   },
   "outputs": [
    {
     "name": "stdout",
     "output_type": "stream",
     "text": [
      "결측값이 있는 범주형 변수: ['medical_history', 'family_medical_history', 'edu_level']\n",
      "결측값이 있는 수치형 변수: ['mean_working']\n"
     ]
    }
   ],
   "source": [
    "categorical_na_cols = []\n",
    "numerical_na_cols = []\n",
    "\n",
    "# 결측값이 있는 각 칼럼에 대해 데이터 타입 확인\n",
    "for col in missing_columns_train:\n",
    "    # 해당 칼럼이 범주형(object 또는 category)인지 확인\n",
    "    if col in train.select_dtypes(include=['object', 'category']).columns:\n",
    "        categorical_na_cols.append(col)\n",
    "    # 해당 칼럼이 수치형(int 또는 float)인지 확인\n",
    "    elif col in train.select_dtypes(include=['int', 'float']).columns:\n",
    "        numerical_na_cols.append(col)\n",
    "\n",
    "print(\"결측값이 있는 범주형 변수:\", categorical_na_cols)\n",
    "print(\"결측값이 있는 수치형 변수:\", numerical_na_cols)"
   ]
  },
  {
   "cell_type": "markdown",
   "metadata": {
    "pbl_cell_type": "markdown",
    "step_id": 15028,
    "step_number": 0
   },
   "source": [
    "### Data Preprocessing"
   ]
  },
  {
   "cell_type": "code",
   "execution_count": 8,
   "metadata": {
    "pbl_cell_type": "code",
    "step_id": 15028,
    "step_number": 0
   },
   "outputs": [],
   "source": [
    "# 범주형 변수의 결측값을 최빈값으로 대체\n",
    "for col in categorical_na_cols:\n",
    "    # 학습 데이터에서 최빈값 계산\n",
    "    most_frequent = train[col].mode()[0]\n",
    "    \n",
    "    # 학습 데이터와 테스트 데이터 모두 해당 칼럼의 최빈값으로 대체\n",
    "    train[col] = train[col].fillna(most_frequent)\n",
    "    test[col] = test[col].fillna(most_frequent)"
   ]
  },
  {
   "cell_type": "code",
   "execution_count": null,
   "metadata": {
    "pbl_cell_type": "code",
    "step_id": 15028,
    "step_number": 0
   },
   "outputs": [],
   "source": [
    "# mean_working에 대해 중앙값 대체\n",
    "median_value = train['mean_working'].median()\n",
    "\n",
    "train['mean_working'] = train['mean_working'].fillna(median_value)\n",
    "test['mean_working'] = test['mean_working'].fillna(median_value)"
   ]
  },
  {
   "cell_type": "code",
   "execution_count": 10,
   "metadata": {
    "pbl_cell_type": "code",
    "step_id": 15028,
    "step_number": 0
   },
   "outputs": [],
   "source": [
    "# Label Encoding 적용 열 - 범주형 데이터\n",
    "categorical_cols = train.select_dtypes(include='object').columns.drop('ID')\n",
    "\n",
    "for feature in categorical_cols:\n",
    "    le = LabelEncoder()\n",
    "    le = le.fit(train[feature])\n",
    "    train[feature] = le.transform(train[feature])\n",
    "    \n",
    "    for label in np.unique(test[feature]):\n",
    "        if label not in le.classes_:\n",
    "            le.classes_ = np.append(le.classes_, label)\n",
    "    \n",
    "    test[feature] = le.transform(test[feature])"
   ]
  },
  {
   "cell_type": "code",
   "execution_count": 11,
   "metadata": {
    "pbl_cell_type": "code",
    "step_id": 15028,
    "step_number": 0
   },
   "outputs": [],
   "source": [
    "x_train = train.drop(['ID', 'stress_score'], axis = 1)\n",
    "y_train = train['stress_score']\n",
    "\n",
    "test = test.drop('ID', axis = 1)"
   ]
  },
  {
   "cell_type": "markdown",
   "metadata": {
    "pbl_cell_type": "markdown",
    "step_id": 15028,
    "step_number": 1,
    "tags": []
   },
   "source": [
    "### Train / Predict"
   ]
  },
  {
   "cell_type": "code",
   "execution_count": 12,
   "metadata": {
    "pbl_cell_type": "code",
    "step_id": 15028,
    "step_number": 1,
    "tags": []
   },
   "outputs": [
    {
     "name": "stdout",
     "output_type": "stream",
     "text": [
      "[LightGBM] [Info] Auto-choosing col-wise multi-threading, the overhead of testing was 0.000804 seconds.\n",
      "You can set `force_col_wise=true` to remove the overhead.\n",
      "[LightGBM] [Info] Total Bins 1454\n",
      "[LightGBM] [Info] Number of data points in the train set: 3000, number of used features: 16\n",
      "[LightGBM] [Info] Start training from score 0.482130\n"
     ]
    }
   ],
   "source": [
    "model = LGBMRegressor(random_state = 42)\n",
    "model.fit(x_train, y_train)\n",
    "\n",
    "pred = model.predict(test)"
   ]
  },
  {
   "cell_type": "markdown",
   "metadata": {
    "pbl_cell_type": "markdown",
    "step_id": 15028,
    "step_number": 1,
    "tags": []
   },
   "source": [
    "### Submission"
   ]
  },
  {
   "cell_type": "code",
   "execution_count": null,
   "metadata": {
    "pbl_cell_type": "code",
    "step_id": 15028,
    "step_number": 1,
    "tags": []
   },
   "outputs": [],
   "source": [
    "submission = pd.read_csv('./data/sample_submission.csv')"
   ]
  },
  {
   "cell_type": "code",
   "execution_count": 14,
   "metadata": {
    "pbl_cell_type": "code",
    "step_id": 15028,
    "step_number": 1,
    "tags": []
   },
   "outputs": [
    {
     "data": {
      "text/html": [
       "<div>\n",
       "<style scoped>\n",
       "    .dataframe tbody tr th:only-of-type {\n",
       "        vertical-align: middle;\n",
       "    }\n",
       "\n",
       "    .dataframe tbody tr th {\n",
       "        vertical-align: top;\n",
       "    }\n",
       "\n",
       "    .dataframe thead th {\n",
       "        text-align: right;\n",
       "    }\n",
       "</style>\n",
       "<table border=\"1\" class=\"dataframe\">\n",
       "  <thead>\n",
       "    <tr style=\"text-align: right;\">\n",
       "      <th></th>\n",
       "      <th>ID</th>\n",
       "      <th>stress_score</th>\n",
       "    </tr>\n",
       "  </thead>\n",
       "  <tbody>\n",
       "    <tr>\n",
       "      <th>0</th>\n",
       "      <td>TEST_0000</td>\n",
       "      <td>0.412394</td>\n",
       "    </tr>\n",
       "    <tr>\n",
       "      <th>1</th>\n",
       "      <td>TEST_0001</td>\n",
       "      <td>0.689009</td>\n",
       "    </tr>\n",
       "    <tr>\n",
       "      <th>2</th>\n",
       "      <td>TEST_0002</td>\n",
       "      <td>0.183309</td>\n",
       "    </tr>\n",
       "    <tr>\n",
       "      <th>3</th>\n",
       "      <td>TEST_0003</td>\n",
       "      <td>0.522015</td>\n",
       "    </tr>\n",
       "    <tr>\n",
       "      <th>4</th>\n",
       "      <td>TEST_0004</td>\n",
       "      <td>0.572112</td>\n",
       "    </tr>\n",
       "  </tbody>\n",
       "</table>\n",
       "</div>"
      ],
      "text/plain": [
       "          ID  stress_score\n",
       "0  TEST_0000      0.412394\n",
       "1  TEST_0001      0.689009\n",
       "2  TEST_0002      0.183309\n",
       "3  TEST_0003      0.522015\n",
       "4  TEST_0004      0.572112"
      ]
     },
     "execution_count": 14,
     "metadata": {},
     "output_type": "execute_result"
    }
   ],
   "source": [
    "submission['stress_score'] = pred\n",
    "submission.head()"
   ]
  },
  {
   "cell_type": "code",
   "execution_count": null,
   "metadata": {
    "pbl_cell_type": "code",
    "step_id": 15028,
    "step_number": 1,
    "tags": []
   },
   "outputs": [],
   "source": [
    "submission.to_csv('./data/submit.csv', index=False)"
   ]
  }
 ],
 "metadata": {
  "kernelspec": {
   "display_name": "Python 3 (ipykernel)",
   "language": "python",
   "name": "python3"
  },
  "language_info": {
   "codemirror_mode": {
    "name": "ipython",
    "version": 3
   },
   "file_extension": ".py",
   "mimetype": "text/x-python",
   "name": "python",
   "nbconvert_exporter": "python",
   "pygments_lexer": "ipython3",
   "version": "3.11.13"
  }
 },
 "nbformat": 4,
 "nbformat_minor": 4
}
